{
 "cells": [
  {
   "cell_type": "markdown",
   "id": "f0de8d30-99f5-41a9-820a-291aece896c3",
   "metadata": {},
   "source": [
    "# Data Science Tools and Ecosystem"
   ]
  },
  {
   "cell_type": "markdown",
   "id": "cb4448f3-e262-4c01-9574-35b6bed9f998",
   "metadata": {},
   "source": [
    "## In this notebook, Data Science Tools and Ecosystem are summarized."
   ]
  },
  {
   "cell_type": "markdown",
   "id": "93442341-c7c1-454e-91cb-01045b5dc330",
   "metadata": {},
   "source": [
    "**Objectives:**\n",
    "- List popular languages for Data Science\n",
    "- List popular tools for Data Science\n",
    "- Perform mathematical operations\n",
    "\n",
    "\n",
    "\n"
   ]
  },
  {
   "cell_type": "markdown",
   "id": "8ec1b8d4-0639-4a37-b65e-2939ed6b1fbe",
   "metadata": {},
   "source": [
    "## Some of the popular languages that Data Scientists use are:\n",
    "1. Python\n",
    "2. R\n",
    "3. Git"
   ]
  },
  {
   "cell_type": "markdown",
   "id": "54752844-959b-4087-9057-643bf9601297",
   "metadata": {},
   "source": [
    "## Some of the commonly used libraries used by Data Scientists include:\n",
    "1. Pandas\n",
    "2. Numpy\n",
    "3. Tensorflow"
   ]
  },
  {
   "cell_type": "markdown",
   "id": "5feaf2bb-0fb8-4a11-ba86-4b6da3b306c6",
   "metadata": {},
   "source": [
    "|Data Science Tools|\n",
    "|------------------|\n",
    "|jupyter Notebook  |\n",
    "|Visual Studio     |\n",
    "|PyCharm           |"
   ]
  },
  {
   "cell_type": "markdown",
   "id": "158052ea-1f68-418c-a449-d451b8a93eda",
   "metadata": {},
   "source": [
    "### Below are a few examples of evaluating arithmetic expressions in Python"
   ]
  },
  {
   "cell_type": "code",
   "execution_count": 1,
   "id": "e352beb0-2332-4c5a-a512-01fbbc540b4b",
   "metadata": {},
   "outputs": [
    {
     "data": {
      "text/plain": [
       "17"
      ]
     },
     "execution_count": 1,
     "metadata": {},
     "output_type": "execute_result"
    }
   ],
   "source": [
    "(3*4)+5"
   ]
  },
  {
   "cell_type": "markdown",
   "id": "384dc6c2-461c-4410-989e-16e6372142e4",
   "metadata": {},
   "source": [
    "### This a simple arithmetic expression to mutiply then add integers"
   ]
  },
  {
   "cell_type": "code",
   "execution_count": 4,
   "id": "3ff190ad-19fb-464b-a9de-f35f1deea22d",
   "metadata": {},
   "outputs": [
    {
     "name": "stdout",
     "output_type": "stream",
     "text": [
      "3.3333333333333335\n"
     ]
    }
   ],
   "source": [
    "a = 200/60\n",
    "print(a)"
   ]
  },
  {
   "cell_type": "markdown",
   "id": "e98b2d86-ca34-478b-9c6c-f777a051664c",
   "metadata": {},
   "source": [
    "### This will convert 200 minutes to hours by diving by 60"
   ]
  },
  {
   "cell_type": "markdown",
   "id": "1b3359d2-af9a-4b89-a029-3fb9753df004",
   "metadata": {},
   "source": [
    "## Autor\n",
    "## Gerardo Abad Garcia "
   ]
  },
  {
   "cell_type": "code",
   "execution_count": null,
   "id": "75cafd4b-1797-44dc-a8bb-ebb57bc884c9",
   "metadata": {},
   "outputs": [],
   "source": []
  }
 ],
 "metadata": {
  "kernelspec": {
   "display_name": "Python 3 (ipykernel)",
   "language": "python",
   "name": "python3"
  },
  "language_info": {
   "codemirror_mode": {
    "name": "ipython",
    "version": 3
   },
   "file_extension": ".py",
   "mimetype": "text/x-python",
   "name": "python",
   "nbconvert_exporter": "python",
   "pygments_lexer": "ipython3",
   "version": "3.12.7"
  }
 },
 "nbformat": 4,
 "nbformat_minor": 5
}
